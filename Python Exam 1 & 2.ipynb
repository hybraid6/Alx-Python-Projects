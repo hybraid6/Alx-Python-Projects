{
 "cells": [
  {
   "cell_type": "markdown",
   "id": "e9b7dbfb",
   "metadata": {},
   "source": [
    "### 1 You are contributing to an open-source Python project with a strict adherence to coding standards. According to PEP 8, how should you format statements in your code:\n",
    "\n",
    "- Use separate lines for each statement to enhance readability. X\n",
    "- Place all variable assignment statements on the same line.\n",
    "Separate multiple statements on a single line with the & character.\n",
    "Place multiple statements on a single line whenever possible."
   ]
  },
  {
   "cell_type": "markdown",
   "id": "9100260e",
   "metadata": {},
   "source": [
    "### 2 A data scientist uses a lambda function to quickly transform a list containing E. coli levels on various days into a list of categories ('High', 'Medium', 'Low'). What is a key characteristic of lambda functions that makes them suitable for this task?\n",
    "\n",
    "- They allow for concise one-line function definitions. X\n",
    "- They are designed for complex multi-line operations.\n",
    "They are more efficient because they are not interpretable.\n",
    "They can iterate through lists without being defined in the traditional manner."
   ]
  },
  {
   "cell_type": "markdown",
   "id": "d8ac42ce",
   "metadata": {},
   "source": [
    "### 3 Which of the following would separate a string, input_string, on the first 2 occurrences of the letter “e”?\n",
    "\n",
    "split(input_string == 'e', 2)\n",
    "split(input_string = 'e', 2)\n",
    "- input_string.split('e', maxsplit=2) X\n",
    "- 'e'.split(input_string, 2)"
   ]
  },
  {
   "cell_type": "markdown",
   "id": "be49c331",
   "metadata": {},
   "source": [
    "### 4 While working on a text analysis tool, you need to modify a string based on user input dynamically. Given Python's string immutability, what would be the most efficient way to approach this?\n",
    "\n",
    "Use a mutable string type available in Python.\n",
    "- Create a new string with the required modifications.X\n",
    "- Directly modify the string in place.\n",
    "Convert the string to a list, modify it, then convert it back."
   ]
  },
  {
   "cell_type": "markdown",
   "id": "bb398710",
   "metadata": {},
   "source": [
    "### 5  What is the output for:\n",
    "\n",
    "```S = [['him', 'sell'], [90, 28, 43]]```\n",
    "\n",
    "```S[0][1][1]```"
   ]
  },
  {
   "cell_type": "markdown",
   "id": "e65f0e3c",
   "metadata": {},
   "source": [
    "### 6  What happens if the base condition isn’t defined in recursive programs?\n",
    "\n",
    "Program runs once\n",
    "- Program goes into an infinite loop X\n",
    "- An exception is always thrown\n",
    "Program runs n number of times where n is the argument given to the recursive function"
   ]
  },
  {
   "cell_type": "markdown",
   "id": "773d3f11",
   "metadata": {},
   "source": [
    "### 7   When writing a unit test in Python for a function, calculate_sum, that returns the sum of two integers, which of the following is the correct way to assert that the function returns 10 when passed the values 7 and 3?\n",
    "\n",
    "calculate_sum(7, 3).assertEqual(10)\n",
    "assertEquals(calculate_sum[7, 3], 10)\n",
    "assertEqual calculate_sum(7, 3) == 10\n",
    "- assert calculate_sum(7, 3) == 10 X"
   ]
  },
  {
   "cell_type": "markdown",
   "id": "7b23721a",
   "metadata": {},
   "source": [
    "### 8 What is instantiation in terms of OOP terminology?\n",
    "\n",
    "Copying an instance of class\n",
    "Deleting an instance of class\n",
    "Modifying an instance of class\n",
    "- Creating an instance of class X"
   ]
  },
  {
   "cell_type": "markdown",
   "id": "77f6103e",
   "metadata": {},
   "source": [
    "### 9 An environmental scientist aims to combat climate change by analysing a dataset of yearly carbon dioxide emissions per country using the pandas library. The objective is to sort the data to highlight the top emitting countries. Which pandas method correctly sorts the DataFrame emissions by the column CO2_Emissions in descending order?\n",
    "\n",
    "emissions.pivot_table(index='CO2_Emissions', aggfunc='sum').sort_values('CO2_Emissions', ascending=False)\n",
    "emissions.groupby('CO2_Emissions').sort_values('CO2_Emissions', ascending=False)\n",
    "- emissions.sort_values(by='CO2_Emissions', ascending=False) X\n",
    "- emissions.sort_values(by='CO2_Emissions', descending=False"
   ]
  },
  {
   "cell_type": "markdown",
   "id": "0f6b6aec",
   "metadata": {},
   "source": [
    "### 10  works by taking elements from the unsorted list and inserting them at the right place in a new sorted list.\n",
    "\n",
    "Bubble sort\n",
    "Selection sort\n",
    "- Insertion sort X\n",
    "- Quick sort"
   ]
  },
  {
   "cell_type": "markdown",
   "id": "f8d186d2",
   "metadata": {},
   "source": [
    "### 11 The time complexity of a quick sort algorithm, which makes use of median, found by an O(n) algorithm, as pivot element is:\n",
    "\n",
    "O(logn)\n",
    "O(n²)\n",
    "- O(nlogn) X\n",
    "- O(n)"
   ]
  },
  {
   "cell_type": "markdown",
   "id": "5a2673b0",
   "metadata": {},
   "source": [
    "### 12 An environmental scientist is developing a model to simulate the regrowth of deforested areas over time. The model needs to predict the area's recovery through a function that estimates growth each year based on the previous year's growth, creating a chain of function calls until a target year is reached. What programming concept is being applied here?\n",
    "\n",
    "Iteration, using loops to repeatedly execute a block of code.\n",
    "- Recursion, where a function calls itself with a modified parameter until a base case is reached. X\n",
    "- Polymorphism, where a function operates in multiple ways depending on the input.\n",
    "Inheritance, where a class inherits properties from a parent class."
   ]
  },
  {
   "cell_type": "markdown",
   "id": "788ec597",
   "metadata": {},
   "source": [
    "### 13 How would you add changes to a repository on GitHub using a terminal?\n",
    "\n",
    "git push; git add .; git commit -m \"Update file\"\n",
    "git commit -m \"Update file\"; git add .; git push\n",
    "- git add .; git commit -m \"Update file\"; git push X\n",
    "- git add .; git push; git commit -m \"Update file\""
   ]
  },
  {
   "cell_type": "markdown",
   "id": "33aee876",
   "metadata": {},
   "source": [
    "### 14 How is the variance for a sample standard deviation calculated?\n",
    "\n",
    "By summing the squared differences between each observation and the sample mean, then dividing by the number of population observations (N).\n",
    "- By summing the squared differences between each observation and the sample mean, then dividing by the number of sample observations minus one (n−1). X\n",
    "- By summing the squared differences between each observation and the sample mean, then dividing by the number of population observations plus one (N+1).\n",
    "By summing the squared differences between each observation and the population mean, then dividing by the number of sample observations minus one (n−1)."
   ]
  },
  {
   "cell_type": "markdown",
   "id": "93083ae8",
   "metadata": {},
   "source": [
    "### 15 Examine the following Python code intended to create a line plot to visualise the effect of temperature on maize yield. Identify any error/s in the code:\n",
    "\n",
    "import seaborn as sns\n",
    "\n",
    "import matplotlib.pyplot as plt\n",
    "\n",
    "import pandas as pd\n",
    "\n",
    "data = pd.DataFrame({\n",
    "\n",
    "    'Yield_of_maize_kgs': [250, 300, 350, 400, 450],\n",
    "\n",
    "    'Average_temperature': [18, 30, 21, 25, 27]\n",
    "\n",
    "})\n",
    "\n",
    "sns.scatterplot(x='Yield_of_maize_kgs', y='Average_temperature', data)\n",
    "\n",
    "plt.title('Effect of temperature on maize yield')\n",
    "\n",
    "plt.show()\n",
    "\n",
    "The line of code should be corrected to:\n",
    "sns.lineplot(x='Average_temperature', y='Yield_of_maize_kgs', data)\n",
    "- The line of code should be corrected to:\n",
    "  sns.lineplot(x='Average_temperature', y='Yield_of_maize_kgs', data = data) X\n",
    "- The line of code should be corrected to:\n",
    "  sns.scatterplot(x='Yield_of_maize_kgs', y='Average_temperature', data = data)\n",
    "There is no error in the code."
   ]
  },
  {
   "cell_type": "markdown",
   "id": "983f9699",
   "metadata": {},
   "source": [
    "### 16 Climate scientists are using sample data from various microclimates to predict broader climate patterns. When applying statistical methods to estimate the mean temperature increase due to global warming, which principle allows them to infer the distribution of the mean from these samples?\n",
    "\n",
    "The Monte Carlo method, a computational algorithm that relies on repeated random sampling to obtain results\n",
    "The law of large numbers, which states that as a sample size grows, its mean gets closer to the average of the whole population.\n",
    "- The central limit theorem, which states that the sampling distribution of the sample mean will approximate a normal    distribution, regardless of the population's distribution, given a sufficiently large sample size.X\n",
    "- Pearson's correlation coefficient, which measures the linear correlation between two variables."
   ]
  },
  {
   "cell_type": "markdown",
   "id": "f6c31da0",
   "metadata": {},
   "source": [
    "### 17 In a project monitoring wildlife movements through protected areas, scientists use immutable data structures to ensure the integrity of the recorded GPS tracking data. Why is an attempt to directly modify this data type, such as updating a GPS coordinate in a tuple, problematic in Python?\n",
    "\n",
    "Immutable types do not support item assignment, making direct updates inefficient.\n",
    "The operation overwrites the entire data structure, leading to data loss.\n",
    "- Attempting to modify an immutable data structure like a tuple results in a TypeError because tuples cannot be changed after their creation. X\n",
    "- Direct modification leads to a ValueError due to incorrect value assignment."
   ]
  },
  {
   "cell_type": "markdown",
   "id": "efdf78c1",
   "metadata": {},
   "source": [
    "### 18 Which statement is correct:\n",
    "\n",
    "Tuples, dictionaries and lists are all immutable.\n",
    "The following code will return False:\n",
    "False and True\n",
    "- The following code will produce a list of squared numbers that fit between 0 to 11 where every second number is squared:\n",
    "  [i**2 for i in range(1,11,2)] X\n",
    "- The following code will produce a list of all the squares from 1 to 5:\n",
    "  squares={x:x**2 for x in range(1,6)}"
   ]
  },
  {
   "cell_type": "markdown",
   "id": "bb3ecfc5",
   "metadata": {},
   "source": [
    "## Importing necessary libraries"
   ]
  },
  {
   "cell_type": "code",
   "execution_count": 8,
   "id": "80dd90b4",
   "metadata": {},
   "outputs": [],
   "source": [
    "import matplotlib.pyplot as plt\n",
    "import seaborn as sns\n",
    "import pandas as pd\n",
    "import numpy as np"
   ]
  },
  {
   "cell_type": "markdown",
   "id": "1ce4480d",
   "metadata": {},
   "source": [
    "### Importing Data"
   ]
  },
  {
   "cell_type": "code",
   "execution_count": 9,
   "id": "7893d553",
   "metadata": {},
   "outputs": [
    {
     "data": {
      "text/html": [
       "<div>\n",
       "<style scoped>\n",
       "    .dataframe tbody tr th:only-of-type {\n",
       "        vertical-align: middle;\n",
       "    }\n",
       "\n",
       "    .dataframe tbody tr th {\n",
       "        vertical-align: top;\n",
       "    }\n",
       "\n",
       "    .dataframe thead th {\n",
       "        text-align: right;\n",
       "    }\n",
       "</style>\n",
       "<table border=\"1\" class=\"dataframe\">\n",
       "  <thead>\n",
       "    <tr style=\"text-align: right;\">\n",
       "      <th></th>\n",
       "      <th>Field_ID</th>\n",
       "      <th>Elevation</th>\n",
       "      <th>Rainfall</th>\n",
       "      <th>Min_temperature_C</th>\n",
       "      <th>Max_temperature_C</th>\n",
       "      <th>pH</th>\n",
       "      <th>Pollution_level</th>\n",
       "      <th>Plot_size</th>\n",
       "      <th>Annual_yield</th>\n",
       "      <th>Crop_type</th>\n",
       "    </tr>\n",
       "  </thead>\n",
       "  <tbody>\n",
       "    <tr>\n",
       "      <th>0</th>\n",
       "      <td>1162</td>\n",
       "      <td>494.95615</td>\n",
       "      <td>1507.6</td>\n",
       "      <td>-5.4</td>\n",
       "      <td>31.0</td>\n",
       "      <td>6.859436</td>\n",
       "      <td>0.007034</td>\n",
       "      <td>3.6</td>\n",
       "      <td>1.617421</td>\n",
       "      <td>coffee</td>\n",
       "    </tr>\n",
       "    <tr>\n",
       "      <th>1</th>\n",
       "      <td>5108</td>\n",
       "      <td>663.73390</td>\n",
       "      <td>581.0</td>\n",
       "      <td>-4.7</td>\n",
       "      <td>30.9</td>\n",
       "      <td>5.603219</td>\n",
       "      <td>0.289643</td>\n",
       "      <td>4.2</td>\n",
       "      <td>2.532497</td>\n",
       "      <td>potato</td>\n",
       "    </tr>\n",
       "    <tr>\n",
       "      <th>2</th>\n",
       "      <td>3504</td>\n",
       "      <td>396.87990</td>\n",
       "      <td>1715.1</td>\n",
       "      <td>-6.1</td>\n",
       "      <td>31.7</td>\n",
       "      <td>5.774116</td>\n",
       "      <td>0.000409</td>\n",
       "      <td>2.6</td>\n",
       "      <td>1.262207</td>\n",
       "      <td>banana</td>\n",
       "    </tr>\n",
       "    <tr>\n",
       "      <th>3</th>\n",
       "      <td>5351</td>\n",
       "      <td>594.80370</td>\n",
       "      <td>1748.0</td>\n",
       "      <td>-4.3</td>\n",
       "      <td>33.6</td>\n",
       "      <td>6.477415</td>\n",
       "      <td>0.088777</td>\n",
       "      <td>7.9</td>\n",
       "      <td>4.351564</td>\n",
       "      <td>wheat</td>\n",
       "    </tr>\n",
       "    <tr>\n",
       "      <th>4</th>\n",
       "      <td>905</td>\n",
       "      <td>609.49800</td>\n",
       "      <td>1395.8</td>\n",
       "      <td>-4.5</td>\n",
       "      <td>31.3</td>\n",
       "      <td>5.419586</td>\n",
       "      <td>0.050023</td>\n",
       "      <td>10.8</td>\n",
       "      <td>5.034791</td>\n",
       "      <td>cassava</td>\n",
       "    </tr>\n",
       "  </tbody>\n",
       "</table>\n",
       "</div>"
      ],
      "text/plain": [
       "   Field_ID  Elevation  Rainfall  Min_temperature_C  Max_temperature_C  \\\n",
       "0      1162  494.95615    1507.6               -5.4               31.0   \n",
       "1      5108  663.73390     581.0               -4.7               30.9   \n",
       "2      3504  396.87990    1715.1               -6.1               31.7   \n",
       "3      5351  594.80370    1748.0               -4.3               33.6   \n",
       "4       905  609.49800    1395.8               -4.5               31.3   \n",
       "\n",
       "         pH  Pollution_level  Plot_size  Annual_yield Crop_type  \n",
       "0  6.859436         0.007034        3.6      1.617421    coffee  \n",
       "1  5.603219         0.289643        4.2      2.532497    potato  \n",
       "2  5.774116         0.000409        2.6      1.262207    banana  \n",
       "3  6.477415         0.088777        7.9      4.351564     wheat  \n",
       "4  5.419586         0.050023       10.8      5.034791   cassava  "
      ]
     },
     "execution_count": 9,
     "metadata": {},
     "output_type": "execute_result"
    }
   ],
   "source": [
    "data = pd.read_csv('MD_agric_exam-4313.csv')\n",
    "data.head()"
   ]
  },
  {
   "cell_type": "code",
   "execution_count": 11,
   "id": "0facd26d",
   "metadata": {},
   "outputs": [
    {
     "data": {
      "text/html": [
       "<div>\n",
       "<style scoped>\n",
       "    .dataframe tbody tr th:only-of-type {\n",
       "        vertical-align: middle;\n",
       "    }\n",
       "\n",
       "    .dataframe tbody tr th {\n",
       "        vertical-align: top;\n",
       "    }\n",
       "\n",
       "    .dataframe thead th {\n",
       "        text-align: right;\n",
       "    }\n",
       "</style>\n",
       "<table border=\"1\" class=\"dataframe\">\n",
       "  <thead>\n",
       "    <tr style=\"text-align: right;\">\n",
       "      <th></th>\n",
       "      <th>count</th>\n",
       "      <th>unique</th>\n",
       "      <th>top</th>\n",
       "      <th>freq</th>\n",
       "      <th>mean</th>\n",
       "      <th>std</th>\n",
       "      <th>min</th>\n",
       "      <th>25%</th>\n",
       "      <th>50%</th>\n",
       "      <th>75%</th>\n",
       "      <th>max</th>\n",
       "    </tr>\n",
       "  </thead>\n",
       "  <tbody>\n",
       "    <tr>\n",
       "      <th>Field_ID</th>\n",
       "      <td>1000.0</td>\n",
       "      <td>NaN</td>\n",
       "      <td>NaN</td>\n",
       "      <td>NaN</td>\n",
       "      <td>2779.486</td>\n",
       "      <td>1595.068372</td>\n",
       "      <td>1.0</td>\n",
       "      <td>1442.25</td>\n",
       "      <td>2728.5</td>\n",
       "      <td>4133.0</td>\n",
       "      <td>5632.0</td>\n",
       "    </tr>\n",
       "    <tr>\n",
       "      <th>Elevation</th>\n",
       "      <td>1000.0</td>\n",
       "      <td>NaN</td>\n",
       "      <td>NaN</td>\n",
       "      <td>NaN</td>\n",
       "      <td>628.136035</td>\n",
       "      <td>179.098546</td>\n",
       "      <td>35.910797</td>\n",
       "      <td>504.392825</td>\n",
       "      <td>657.468975</td>\n",
       "      <td>761.075752</td>\n",
       "      <td>1003.9437</td>\n",
       "    </tr>\n",
       "    <tr>\n",
       "      <th>Rainfall</th>\n",
       "      <td>1000.0</td>\n",
       "      <td>NaN</td>\n",
       "      <td>NaN</td>\n",
       "      <td>NaN</td>\n",
       "      <td>1197.7347</td>\n",
       "      <td>497.794699</td>\n",
       "      <td>110.1</td>\n",
       "      <td>771.575</td>\n",
       "      <td>1194.9</td>\n",
       "      <td>1616.9</td>\n",
       "      <td>2408.5</td>\n",
       "    </tr>\n",
       "    <tr>\n",
       "      <th>Min_temperature_C</th>\n",
       "      <td>1000.0</td>\n",
       "      <td>NaN</td>\n",
       "      <td>NaN</td>\n",
       "      <td>NaN</td>\n",
       "      <td>-4.5041</td>\n",
       "      <td>1.568117</td>\n",
       "      <td>-9.7</td>\n",
       "      <td>-5.6</td>\n",
       "      <td>-4.4</td>\n",
       "      <td>-3.3</td>\n",
       "      <td>-1.2</td>\n",
       "    </tr>\n",
       "    <tr>\n",
       "      <th>Max_temperature_C</th>\n",
       "      <td>1000.0</td>\n",
       "      <td>NaN</td>\n",
       "      <td>NaN</td>\n",
       "      <td>NaN</td>\n",
       "      <td>30.8946</td>\n",
       "      <td>1.92225</td>\n",
       "      <td>25.1</td>\n",
       "      <td>29.575</td>\n",
       "      <td>30.9</td>\n",
       "      <td>32.2</td>\n",
       "      <td>37.3</td>\n",
       "    </tr>\n",
       "    <tr>\n",
       "      <th>pH</th>\n",
       "      <td>1000.0</td>\n",
       "      <td>NaN</td>\n",
       "      <td>NaN</td>\n",
       "      <td>NaN</td>\n",
       "      <td>5.603899</td>\n",
       "      <td>0.802154</td>\n",
       "      <td>3.701838</td>\n",
       "      <td>5.018775</td>\n",
       "      <td>5.562078</td>\n",
       "      <td>6.201437</td>\n",
       "      <td>7.484683</td>\n",
       "    </tr>\n",
       "    <tr>\n",
       "      <th>Pollution_level</th>\n",
       "      <td>1000.0</td>\n",
       "      <td>NaN</td>\n",
       "      <td>NaN</td>\n",
       "      <td>NaN</td>\n",
       "      <td>0.223374</td>\n",
       "      <td>0.228866</td>\n",
       "      <td>0.0</td>\n",
       "      <td>0.044494</td>\n",
       "      <td>0.166196</td>\n",
       "      <td>0.307784</td>\n",
       "      <td>0.995413</td>\n",
       "    </tr>\n",
       "    <tr>\n",
       "      <th>Plot_size</th>\n",
       "      <td>1000.0</td>\n",
       "      <td>NaN</td>\n",
       "      <td>NaN</td>\n",
       "      <td>NaN</td>\n",
       "      <td>3.9624</td>\n",
       "      <td>3.459036</td>\n",
       "      <td>0.5</td>\n",
       "      <td>1.5</td>\n",
       "      <td>2.9</td>\n",
       "      <td>4.7</td>\n",
       "      <td>15.0</td>\n",
       "    </tr>\n",
       "    <tr>\n",
       "      <th>Annual_yield</th>\n",
       "      <td>1000.0</td>\n",
       "      <td>NaN</td>\n",
       "      <td>NaN</td>\n",
       "      <td>NaN</td>\n",
       "      <td>2.101536</td>\n",
       "      <td>1.926694</td>\n",
       "      <td>0.174857</td>\n",
       "      <td>0.786612</td>\n",
       "      <td>1.478622</td>\n",
       "      <td>2.519811</td>\n",
       "      <td>12.695224</td>\n",
       "    </tr>\n",
       "    <tr>\n",
       "      <th>Crop_type</th>\n",
       "      <td>1000</td>\n",
       "      <td>8</td>\n",
       "      <td>wheat</td>\n",
       "      <td>244</td>\n",
       "      <td>NaN</td>\n",
       "      <td>NaN</td>\n",
       "      <td>NaN</td>\n",
       "      <td>NaN</td>\n",
       "      <td>NaN</td>\n",
       "      <td>NaN</td>\n",
       "      <td>NaN</td>\n",
       "    </tr>\n",
       "  </tbody>\n",
       "</table>\n",
       "</div>"
      ],
      "text/plain": [
       "                    count unique    top freq        mean          std  \\\n",
       "Field_ID           1000.0    NaN    NaN  NaN    2779.486  1595.068372   \n",
       "Elevation          1000.0    NaN    NaN  NaN  628.136035   179.098546   \n",
       "Rainfall           1000.0    NaN    NaN  NaN   1197.7347   497.794699   \n",
       "Min_temperature_C  1000.0    NaN    NaN  NaN     -4.5041     1.568117   \n",
       "Max_temperature_C  1000.0    NaN    NaN  NaN     30.8946      1.92225   \n",
       "pH                 1000.0    NaN    NaN  NaN    5.603899     0.802154   \n",
       "Pollution_level    1000.0    NaN    NaN  NaN    0.223374     0.228866   \n",
       "Plot_size          1000.0    NaN    NaN  NaN      3.9624     3.459036   \n",
       "Annual_yield       1000.0    NaN    NaN  NaN    2.101536     1.926694   \n",
       "Crop_type            1000      8  wheat  244         NaN          NaN   \n",
       "\n",
       "                         min         25%         50%         75%        max  \n",
       "Field_ID                 1.0     1442.25      2728.5      4133.0     5632.0  \n",
       "Elevation          35.910797  504.392825  657.468975  761.075752  1003.9437  \n",
       "Rainfall               110.1     771.575      1194.9      1616.9     2408.5  \n",
       "Min_temperature_C       -9.7        -5.6        -4.4        -3.3       -1.2  \n",
       "Max_temperature_C       25.1      29.575        30.9        32.2       37.3  \n",
       "pH                  3.701838    5.018775    5.562078    6.201437   7.484683  \n",
       "Pollution_level          0.0    0.044494    0.166196    0.307784   0.995413  \n",
       "Plot_size                0.5         1.5         2.9         4.7       15.0  \n",
       "Annual_yield        0.174857    0.786612    1.478622    2.519811  12.695224  \n",
       "Crop_type                NaN         NaN         NaN         NaN        NaN  "
      ]
     },
     "execution_count": 11,
     "metadata": {},
     "output_type": "execute_result"
    }
   ],
   "source": [
    "data.describe(include='all').T"
   ]
  },
  {
   "cell_type": "markdown",
   "id": "02eda076",
   "metadata": {},
   "source": [
    "### 1  Write code to determine the number of unique crop types in the dataset?"
   ]
  },
  {
   "cell_type": "code",
   "execution_count": 10,
   "id": "da826951",
   "metadata": {},
   "outputs": [
    {
     "data": {
      "text/plain": [
       "8"
      ]
     },
     "execution_count": 10,
     "metadata": {},
     "output_type": "execute_result"
    }
   ],
   "source": [
    "data['Crop_type'].nunique()"
   ]
  },
  {
   "cell_type": "markdown",
   "id": "434d65dc",
   "metadata": {},
   "source": [
    "### 3   Identify the maximum annual yield for \"wheat\" crop type in the dataset (rounded to 2 decimal places)."
   ]
  },
  {
   "cell_type": "code",
   "execution_count": 12,
   "id": "7fedb177",
   "metadata": {},
   "outputs": [
    {
     "data": {
      "text/plain": [
       "8.99"
      ]
     },
     "execution_count": 12,
     "metadata": {},
     "output_type": "execute_result"
    }
   ],
   "source": [
    "round(data[data['Crop_type'] == 'wheat']['Annual_yield'].max(), 2)"
   ]
  },
  {
   "cell_type": "markdown",
   "id": "a3a0f54f",
   "metadata": {},
   "source": [
    "### 4 Find the total rainfall for crop types where the average pollution level is above 0.2."
   ]
  },
  {
   "cell_type": "code",
   "execution_count": 20,
   "id": "3dbc8d61",
   "metadata": {},
   "outputs": [
    {
     "data": {
      "text/plain": [
       "941959.7"
      ]
     },
     "execution_count": 20,
     "metadata": {},
     "output_type": "execute_result"
    }
   ],
   "source": [
    "filtered_data = data.groupby('Crop_type').filter(lambda x: x['Pollution_level'].mean() > 0.2)\n",
    "\n",
    "filtered_data['Rainfall'].sum()"
   ]
  },
  {
   "cell_type": "code",
   "execution_count": 23,
   "id": "4a039ea4",
   "metadata": {},
   "outputs": [
    {
     "data": {
      "text/plain": [
       "Field_ID                                                       2372038\n",
       "Elevation                                                561187.520922\n",
       "Rainfall                                                      941959.7\n",
       "Min_temperature_C                                              -3638.7\n",
       "Max_temperature_C                                              26010.9\n",
       "pH                                                         4699.773923\n",
       "Pollution_level                                             210.566551\n",
       "Plot_size                                                       3292.9\n",
       "Annual_yield                                               1767.232515\n",
       "Crop_type            coffeepotatowheatcassavamaizewheatpotatowheatw...\n",
       "dtype: object"
      ]
     },
     "execution_count": 23,
     "metadata": {},
     "output_type": "execute_result"
    }
   ],
   "source": [
    "data.groupby('Crop_type').filter(lambda x: x['Pollution_level'].mean() > 0.2).sum()"
   ]
  },
  {
   "cell_type": "markdown",
   "id": "37fa179b",
   "metadata": {},
   "source": [
    "### 5. Write a function to calculate the temperature range (Max_temperature_C - Min_temperature_C) for each farmer's field. Then, call the function with the following `Field_ID`: `1458`, `1895`, and `5443`. What are the results of these 3 calls?"
   ]
  },
  {
   "cell_type": "code",
   "execution_count": 25,
   "id": "46d05847",
   "metadata": {},
   "outputs": [
    {
     "name": "stdout",
     "output_type": "stream",
     "text": [
      "Temperature range for Field_ID 1458: 40.7\n",
      "Temperature range for Field_ID 1895: 35.7\n",
      "Temperature range for Field_ID 5443: 33.4\n"
     ]
    }
   ],
   "source": [
    "def calculate_temperature_range(field_id):\n",
    "    # Filter the DataFrame for the specified Field_ID\n",
    "    field_data = data[data['Field_ID'] == field_id]\n",
    "\n",
    "    # Calculate the temperature range (Max_temperature_C - Min_temperature_C)\n",
    "    temperature_range = field_data['Max_temperature_C'].iloc[0] - field_data['Min_temperature_C'].iloc[0]\n",
    "\n",
    "    return temperature_range\n",
    "\n",
    "# Call the function with the specified Field_IDs\n",
    "field_id_1 = 1458\n",
    "field_id_2 = 1895\n",
    "field_id_3 = 5443\n",
    "\n",
    "result_1 = calculate_temperature_range(field_id_1)\n",
    "result_2 = calculate_temperature_range(field_id_2)\n",
    "result_3 = calculate_temperature_range(field_id_3)\n",
    "\n",
    "print(f\"Temperature range for Field_ID {field_id_1}: {result_1}\")\n",
    "print(f\"Temperature range for Field_ID {field_id_2}: {result_2}\")\n",
    "print(f\"Temperature range for Field_ID {field_id_3}: {result_3}\")\n"
   ]
  },
  {
   "cell_type": "markdown",
   "id": "95a0b568",
   "metadata": {},
   "source": [
    "### 6 What does the following code achieve?\n",
    "```\n",
    "a = data['Crop_type'].unique()\n",
    "\n",
    "b = float('inf')\n",
    "\n",
    "c = ''\n",
    "\n",
    "for crop in a:\n",
    "\n",
    "    d = data[data['Crop_type'] == crop]['Min_temperature_C'].mean()\n",
    "\n",
    "    if d < b:\n",
    "\n",
    "        b = d\n",
    "\n",
    "        c = crop\n",
    "\n",
    "print(c)\n",
    "```\n",
    "- Sorts crops_types from the average lowest to highest minimum temperatures.\n",
    "- **Identifies the crop type with the lowest average minimum temperature. X**\n",
    "- Identifies the crop type with the highest average minimum temperature\n",
    "- Identifies the minimum temperature for each crop type."
   ]
  },
  {
   "cell_type": "code",
   "execution_count": 26,
   "id": "2fbfd45c",
   "metadata": {},
   "outputs": [
    {
     "name": "stdout",
     "output_type": "stream",
     "text": [
      "rice\n"
     ]
    }
   ],
   "source": [
    "'''\n",
    "The code iterates through each unique crop type, calculates the average minimum temperature for each crop type,\n",
    "and updates the variables b and c if a crop type with a lower average minimum temperature is found.\n",
    "Finally, it prints the crop type (c) with the lowest average minimum temperature.\n",
    "'''\n",
    "a = data['Crop_type'].unique()  # List of unique crop types\n",
    "\n",
    "b = float('inf')  # Initialize b to positive infinity as a placeholder for the minimum average minimum temperature\n",
    "c = ''  # Initialize c to an empty string as a placeholder for the crop type with the lowest average minimum temperature\n",
    "\n",
    "for crop in a:\n",
    "    d = data[data['Crop_type'] == crop]['Min_temperature_C'].mean()  # Calculate the average minimum temperature for the current crop type\n",
    "    \n",
    "    if d < b:\n",
    "        b = d  # Update the minimum average minimum temperature if the current crop type has a lower average minimum temperature\n",
    "        c = crop  # Update the crop type with the lowest average minimum temperature\n",
    "\n",
    "print(c)  # Print the crop type with the lowest average minimum temperature"
   ]
  },
  {
   "cell_type": "markdown",
   "id": "6b155cf8",
   "metadata": {},
   "source": [
    "### 6. Write code to calculate the total plot size for plots where the pH is less than 5.5."
   ]
  },
  {
   "cell_type": "code",
   "execution_count": 32,
   "id": "6cb15553",
   "metadata": {},
   "outputs": [
    {
     "data": {
      "text/plain": [
       "1731.8999999999999"
      ]
     },
     "execution_count": 32,
     "metadata": {},
     "output_type": "execute_result"
    }
   ],
   "source": [
    "filtered_data = data[data['pH'] < 5.5]\n",
    "\n",
    "filtered_data['Plot_size'].sum()"
   ]
  },
  {
   "cell_type": "code",
   "execution_count": 31,
   "id": "c226f5f9",
   "metadata": {},
   "outputs": [
    {
     "data": {
      "text/plain": [
       "Field_ID                                                       1308606\n",
       "Elevation                                                 324440.08772\n",
       "Rainfall                                                      555427.1\n",
       "Min_temperature_C                                              -1847.9\n",
       "Max_temperature_C                                              14284.4\n",
       "pH                                                         2305.261648\n",
       "Pollution_level                                             115.958912\n",
       "Plot_size                                                       1731.9\n",
       "Annual_yield                                                934.247461\n",
       "Crop_type            cassavawheatwheatwheatpotatocassavapotatowheat...\n",
       "dtype: object"
      ]
     },
     "execution_count": 31,
     "metadata": {},
     "output_type": "execute_result"
    }
   ],
   "source": [
    "data[data['pH'] < 5.5].sum()"
   ]
  },
  {
   "cell_type": "markdown",
   "id": "d1b7ec80",
   "metadata": {},
   "source": [
    "### 7. Using Pandas, create a dataframe that includes entries with a 'Min_temperature_C’< -5 and a 'Max_temperature_C' > 30. How many rows are in the filtered dataset?"
   ]
  },
  {
   "cell_type": "code",
   "execution_count": 35,
   "id": "f7fa9ed9",
   "metadata": {},
   "outputs": [
    {
     "data": {
      "text/plain": [
       "319"
      ]
     },
     "execution_count": 35,
     "metadata": {},
     "output_type": "execute_result"
    }
   ],
   "source": [
    "filtered_data = data[(data['Min_temperature_C'] < -5) & (data['Max_temperature_C'] > 30)]\n",
    "\n",
    "# Get the number of rows in the filtered dataset\n",
    "num_rows_filtered = len(filtered_data)\n",
    "num_rows_filtered"
   ]
  },
  {
   "cell_type": "markdown",
   "id": "d6f7f20e",
   "metadata": {},
   "source": [
    "### 8. Using Numpy, calculate the standard deviation of the 'Rainfall' for plots where the 'Plot_size' is larger than the median plot size of the dataset (round to 2 decimal places)."
   ]
  },
  {
   "cell_type": "code",
   "execution_count": 37,
   "id": "8a8abe42",
   "metadata": {},
   "outputs": [
    {
     "data": {
      "text/plain": [
       "469.62"
      ]
     },
     "execution_count": 37,
     "metadata": {},
     "output_type": "execute_result"
    }
   ],
   "source": [
    "median_plot_size = data['Plot_size'].median()\n",
    "\n",
    "# Filter rows where 'Plot_size' is larger than the median plot size\n",
    "filtered_data = data[data['Plot_size'] > median_plot_size]\n",
    "\n",
    "# Calculate the standard deviation of 'Rainfall' for the filtered data\n",
    "rainfall_std_dev = np.std(filtered_data['Rainfall'], ddof=0)  # Set ddof to 0 for population standard deviation\n",
    "\n",
    "# Round the result to two decimal places\n",
    "round(rainfall_std_dev, 2)\n"
   ]
  },
  {
   "cell_type": "markdown",
   "id": "b4d3fa1c",
   "metadata": {},
   "source": [
    "### 9. If you concatenate the first three digits of the most common ‘Max_temperature_C’ with the last three letters of the least common 'Crop_type', what string do you get?\n",
    "Note: Use the first mode if there are multiple modes"
   ]
  },
  {
   "cell_type": "code",
   "execution_count": 39,
   "id": "dcc89297",
   "metadata": {},
   "outputs": [
    {
     "data": {
      "text/plain": [
       "'30.ice'"
      ]
     },
     "execution_count": 39,
     "metadata": {},
     "output_type": "execute_result"
    }
   ],
   "source": [
    "\n",
    "# Find the most common 'Max_temperature_C' (using the first mode if multiple modes exist)\n",
    "most_common_temp = data['Max_temperature_C'].mode().iloc[0]\n",
    "\n",
    "# Find the least common 'Crop_type'\n",
    "least_common_crop = data['Crop_type'].value_counts().idxmin()\n",
    "\n",
    "# Concatenate the required parts\n",
    "result_string = str(most_common_temp)[:3] + least_common_crop[-3:]\n",
    "\n",
    "result_string"
   ]
  },
  {
   "cell_type": "markdown",
   "id": "0e84f87d",
   "metadata": {},
   "source": [
    "### 10.  Write Python code to create a violin plot visualising the distribution of 'Annual_yield' across different 'Elevation' ranges. Use the provided elevation range categories (Low: < 300m, Medium: 300m - 600m, High: > 600m) to categorise the data before plotting.  Examine the violin plot displaying the distribution of 'Annual Yield' across three elevation categories (Low, Medium, High). What insight does the violin plot provide regarding the relationship between elevation ranges and annual yield distribution?"
   ]
  },
  {
   "cell_type": "code",
   "execution_count": 42,
   "id": "56d3430b",
   "metadata": {},
   "outputs": [
    {
     "data": {
      "image/png": "[encoded data removed]",
      "text/plain": [
       "<Figure size 1200x600 with 1 Axes>"
      ]
     },
     "metadata": {},
     "output_type": "display_data"
    }
   ],
   "source": [
    "import seaborn as sns\n",
    "import matplotlib.pyplot as plt\n",
    "\n",
    "# Create a new column 'Elevation_Category' based on the defined categories\n",
    "data['Elevation_Category'] = pd.cut(data['Elevation'], bins=[float('-inf'), 300, 600, float('inf')], labels=['Low', 'Medium', 'High'])\n",
    "\n",
    "# Create a violin plot\n",
    "plt.figure(figsize=(12, 6))\n",
    "sns.violinplot(x='Elevation_Category', y='Annual_yield', data=data, palette='viridis')\n",
    "plt.title('Distribution of Annual Yield Across Elevation Categories')\n",
    "plt.xlabel('Elevation Category')\n",
    "plt.ylabel('Annual Yield')\n",
    "plt.show()\n"
   ]
  },
  {
   "cell_type": "markdown",
   "id": "c92c45a5",
   "metadata": {},
   "source": [
    "The 'Low' elevation category shows a more consistent yield distribution with less variability compared to the 'Medium' and 'High' categories. This could indicate that lower elevations provide stable conditions for consistent agricultural output."
   ]
  },
  {
   "cell_type": "markdown",
   "id": "1f5ead7f",
   "metadata": {},
   "source": [
    "### 11. Assuming each 'Crop_type' contributes an integer value equal to its length (e.g., 'wheat' contributes 5), write a recursive function to sum the integer values for each unique crop type in the dataset. What is the sum?"
   ]
  },
  {
   "cell_type": "code",
   "execution_count": 43,
   "id": "359d6e31",
   "metadata": {},
   "outputs": [
    {
     "name": "stdout",
     "output_type": "stream",
     "text": [
      "The sum of integer values for each unique crop type is: 42\n"
     ]
    }
   ],
   "source": [
    "def recursive_crop_type_sum(crop_types, index=0):\n",
    "    # Base case: if the index is equal to the length of crop_types, return 0\n",
    "    if index == len(crop_types):\n",
    "        return 0\n",
    "    else:\n",
    "        # Recursive case: add the length of the current crop type and move to the next index\n",
    "        return len(crop_types[index]) + recursive_crop_type_sum(crop_types, index + 1)\n",
    "\n",
    "# Get unique crop types from the DataFrame\n",
    "unique_crop_types = data['Crop_type'].unique()\n",
    "\n",
    "# Call the recursive function\n",
    "sum_of_lengths = recursive_crop_type_sum(unique_crop_types)\n",
    "\n",
    "print(f\"The sum of integer values for each unique crop type is: {sum_of_lengths}\")\n"
   ]
  },
  {
   "cell_type": "markdown",
   "id": "568395b9",
   "metadata": {},
   "source": [
    "### 12. Write Python code to perform a t-test comparing the average 'Annual_yield' between 'coffee' and 'banana' crop types using scipy.stats. What is the p-value, rounded to three decimal places?\n"
   ]
  },
  {
   "cell_type": "code",
   "execution_count": 44,
   "id": "da47170e",
   "metadata": {},
   "outputs": [
    {
     "name": "stdout",
     "output_type": "stream",
     "text": [
      "The p-value for the t-test is: 0.598\n"
     ]
    }
   ],
   "source": [
    "from scipy.stats import ttest_ind\n",
    "\n",
    "# Extract 'Annual_yield' values for 'coffee' and 'banana'\n",
    "coffee_yield = data[data['Crop_type'] == 'coffee']['Annual_yield']\n",
    "banana_yield = data[data['Crop_type'] == 'banana']['Annual_yield']\n",
    "\n",
    "# Perform t-test\n",
    "t_stat, p_value = ttest_ind(coffee_yield, banana_yield, equal_var=False)\n",
    "\n",
    "# Round the p-value to three decimal places\n",
    "rounded_p_value = round(p_value, 3)\n",
    "\n",
    "print(f\"The p-value for the t-test is: {rounded_p_value}\")\n"
   ]
  },
  {
   "cell_type": "code",
   "execution_count": null,
   "id": "0c0f2cb6",
   "metadata": {},
   "outputs": [],
   "source": []
  }
 ],
 "metadata": {
  "kernelspec": {
   "display_name": "Python 3 (ipykernel)",
   "language": "python",
   "name": "python3"
  },
  "language_info": {
   "codemirror_mode": {
    "name": "ipython",
    "version": 3
   },
   "file_extension": ".py",
   "mimetype": "text/x-python",
   "name": "python",
   "nbconvert_exporter": "python",
   "pygments_lexer": "ipython3",
   "version": "3.10.9"
  }
 },
 "nbformat": 4,
 "nbformat_minor": 5
}
